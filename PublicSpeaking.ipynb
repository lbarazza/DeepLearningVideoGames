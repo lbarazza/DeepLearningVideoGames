{
  "nbformat": 4,
  "nbformat_minor": 0,
  "metadata": {
    "colab": {
      "name": "PublicSpeaking.ipynb",
      "version": "0.3.2",
      "provenance": [],
      "collapsed_sections": [],
      "include_colab_link": true
    },
    "kernelspec": {
      "name": "python3",
      "display_name": "Python 3"
    },
    "accelerator": "GPU"
  },
  "cells": [
    {
      "cell_type": "markdown",
      "metadata": {
        "id": "view-in-github",
        "colab_type": "text"
      },
      "source": [
        "<a href=\"https://colab.research.google.com/github/lbarazza/DeepLearningVideoGames/blob/master/PublicSpeaking.ipynb\" target=\"_parent\"><img src=\"https://colab.research.google.com/assets/colab-badge.svg\" alt=\"Open In Colab\"/></a>"
      ]
    },
    {
      "metadata": {
        "id": "7hNusKYXu_N5",
        "colab_type": "code",
        "colab": {
          "base_uri": "https://localhost:8080/",
          "height": 575
        },
        "outputId": "61a49fa6-4b23-4740-c6c0-3ffcd82c5b83"
      },
      "cell_type": "code",
      "source": [
        "dataset = load_dataset()\n",
        "show_dataset(dataset)"
      ],
      "execution_count": 41,
      "outputs": [
        {
          "output_type": "display_data",
          "data": {
            "image/png": "[encoded data removed]",
            "text/plain": [
              "<Figure size 720x720 with 25 Axes>"
            ]
          },
          "metadata": {
            "tags": []
          }
        }
      ]
    },
    {
      "metadata": {
        "id": "mf0I-OFhsEAV",
        "colab_type": "code",
        "colab": {
          "base_uri": "https://localhost:8080/",
          "height": 204
        },
        "outputId": "ef4ac8c7-125b-49dc-f2ae-b5b1f7fa6584"
      },
      "cell_type": "code",
      "source": [
        "machine = new_neural_network()\n",
        "train_neural_network(machine, dataset)\n",
        "evaluate_neural_network(machine, dataset)"
      ],
      "execution_count": 42,
      "outputs": [
        {
          "output_type": "stream",
          "text": [
            "Epoch 1/5\n",
            "60000/60000 [==============================] - 8s 137us/sample - loss: 0.2155 - acc: 0.9369\n",
            "Epoch 2/5\n",
            "60000/60000 [==============================] - 8s 134us/sample - loss: 0.0971 - acc: 0.9699\n",
            "Epoch 3/5\n",
            "60000/60000 [==============================] - 8s 135us/sample - loss: 0.0680 - acc: 0.9784\n",
            "Epoch 4/5\n",
            "60000/60000 [==============================] - 8s 135us/sample - loss: 0.0534 - acc: 0.9826\n",
            "Epoch 5/5\n",
            "60000/60000 [==============================] - 8s 135us/sample - loss: 0.0420 - acc: 0.9861\n",
            "10000/10000 [==============================] - 1s 75us/sample - loss: 0.0679 - acc: 0.9788\n"
          ],
          "name": "stdout"
        }
      ]
    },
    {
      "metadata": {
        "id": "HNf4zPSQwZbK",
        "colab_type": "code",
        "colab": {
          "base_uri": "https://localhost:8080/",
          "height": 592
        },
        "outputId": "a573b7c3-52ff-4577-ccf7-8d291c634452"
      },
      "cell_type": "code",
      "source": [
        "show_machine_results(dataset, machine)"
      ],
      "execution_count": 43,
      "outputs": [
        {
          "output_type": "display_data",
          "data": {
            "image/png": "[encoded data removed]",
            "text/plain": [
              "<Figure size 720x720 with 1 Axes>"
            ]
          },
          "metadata": {
            "tags": []
          }
        }
      ]
    },
    {
      "metadata": {
        "id": "JDim-Xc2wPft",
        "colab_type": "text"
      },
      "cell_type": "markdown",
      "source": [
        ""
      ]
    },
    {
      "metadata": {
        "id": "DZTlJzewmIwP",
        "colab_type": "code",
        "colab": {}
      },
      "cell_type": "code",
      "source": [
        "import tensorflow as tf\n",
        "import numpy as np\n",
        "import matplotlib.pyplot as plt\n",
        "import random\n",
        "\n",
        "def load_dataset():\n",
        "  mnist = tf.keras.datasets.mnist\n",
        "\n",
        "  (x_train, y_train),(x_test, y_test) = mnist.load_data()\n",
        "  x_train, x_test = x_train / 255.0, x_test / 255.0\n",
        "  \n",
        "  return [x_train, y_train, x_test, y_test]\n",
        "\n",
        "def new_neural_network():\n",
        "  machine = tf.keras.models.Sequential([\n",
        "    tf.keras.layers.Flatten(input_shape=(28, 28)),\n",
        "    tf.keras.layers.Dense(512, activation=tf.nn.relu),\n",
        "    tf.keras.layers.Dropout(0.2),\n",
        "    tf.keras.layers.Dense(10, activation=tf.nn.softmax)\n",
        "  ])\n",
        "  machine.compile(optimizer='adam',\n",
        "              loss='sparse_categorical_crossentropy',\n",
        "              metrics=['accuracy'])\n",
        "  return machine\n",
        "\n",
        "def train_neural_network(machine, dataset):\n",
        "  machine.fit(dataset[0], dataset[1], epochs=5)\n",
        "  \n",
        "def evaluate_neural_network(machine, dataset):\n",
        "  machine.evaluate(dataset[2], dataset[3])\n",
        "  \n",
        "  \n",
        "########################################################  \n",
        "  \n",
        "  \n",
        "def show_dataset(dataset):\n",
        "  plt.figure(figsize=(10,10))\n",
        "  for i in range(25):\n",
        "    plt.subplot(5,5,i+1)\n",
        "    plt.xticks([])\n",
        "    plt.yticks([])\n",
        "    plt.grid(False)\n",
        "    plt.imshow(dataset[0][i], cmap=plt.cm.binary)\n",
        "    \n",
        "plt.show()\n",
        "\n",
        "def show_machine_results(dataset, machine):\n",
        "  plt.figure(figsize=(10,10))\n",
        "  plt.imshow(dataset[0][random.randint(0, len(dataset[0]))])"
      ],
      "execution_count": 0,
      "outputs": []
    }
  ]
}